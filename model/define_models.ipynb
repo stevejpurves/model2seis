{
 "cells": [
  {
   "cell_type": "code",
   "execution_count": 1,
   "metadata": {
    "collapsed": true
   },
   "outputs": [],
   "source": [
    "from matplotlib import rc_params"
   ]
  },
  {
   "cell_type": "code",
   "execution_count": 16,
   "metadata": {
    "collapsed": true
   },
   "outputs": [],
   "source": [
    "import sys, os\n",
    "import matplotlib.pyplot as plt\n",
    "# adjust some settings for matplotlib\n",
    "from matplotlib import rcParams\n",
    "# print rcParams\n",
    "rcParams['font.size'] = 15\n",
    "# determine path of repository to set paths corretly below\n",
    "repo_path = os.path.realpath('../..')\n",
    "import pynoddy.history\n",
    "%matplotlib inline\n",
    "rcParams.update({'font.size': 20})"
   ]
  },
  {
   "cell_type": "markdown",
   "metadata": {},
   "source": [
    "## Simple 3 layer model"
   ]
  },
  {
   "cell_type": "code",
   "execution_count": 17,
   "metadata": {
    "collapsed": false
   },
   "outputs": [],
   "source": [
    "# Combined: model generation and output vis to test:\n",
    "history = \"simple_strat_3_layer.his\"\n",
    "output_name = \"simple_strat_3_layer\"\n",
    "\n"
   ]
  },
  {
   "cell_type": "code",
   "execution_count": 77,
   "metadata": {
    "collapsed": false
   },
   "outputs": [],
   "source": [
    "# create pynoddy object\n",
    "nm = pynoddy.history.NoddyHistory()\n",
    "# add stratigraphy\n",
    "strati_options = {'num_layers' : 4,\n",
    "                  'layer_names' : ['layer 1', 'null', 'layer 2', 'layer 3'],\n",
    "                  'layer_thickness' : [2400, 0, 200, 2400]}\n",
    "nm.add_event('stratigraphy', strati_options )\n",
    "\n",
    "nm.write_history(history)"
   ]
  },
  {
   "cell_type": "code",
   "execution_count": 78,
   "metadata": {
    "collapsed": false
   },
   "outputs": [
    {
     "data": {
      "text/plain": [
       "''"
      ]
     },
     "execution_count": 78,
     "metadata": {},
     "output_type": "execute_result"
    }
   ],
   "source": [
    "# Compute the model\n",
    "pynoddy.compute_model(history, output_name)"
   ]
  },
  {
   "cell_type": "code",
   "execution_count": 79,
   "metadata": {
    "collapsed": false
   },
   "outputs": [
    {
     "data": {
      "image/png": "[encoded data removed]",
      "text/plain": [
       "<matplotlib.figure.Figure at 0x109bc76d8>"
      ]
     },
     "metadata": {},
     "output_type": "display_data"
    },
    {
     "name": "stdout",
     "output_type": "stream",
     "text": [
      "[ 2.  3.  4.]\n"
     ]
    }
   ],
   "source": [
    "# Plot output\n",
    "import pynoddy.output\n",
    "import numpy as np\n",
    "nout = pynoddy.output.NoddyOutput(output_name)\n",
    "nout.plot_section('x', position=0, colorbar = True, title=\"\", cmap=\"bone\")\n",
    "slice, cell = nout.get_section_voxels('x', position=0)\n",
    "print(np.unique(slice))\n"
   ]
  },
  {
   "cell_type": "code",
   "execution_count": null,
   "metadata": {
    "collapsed": true
   },
   "outputs": [],
   "source": []
  }
 ],
 "metadata": {
  "anaconda-cloud": {},
  "kernelspec": {
   "display_name": "Python [conda root]",
   "language": "python",
   "name": "conda-root-py"
  },
  "language_info": {
   "codemirror_mode": {
    "name": "ipython",
    "version": 3
   },
   "file_extension": ".py",
   "mimetype": "text/x-python",
   "name": "python",
   "nbconvert_exporter": "python",
   "pygments_lexer": "ipython3",
   "version": "3.5.2"
  }
 },
 "nbformat": 4,
 "nbformat_minor": 1
}
