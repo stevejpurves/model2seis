{
 "cells": [
  {
   "cell_type": "markdown",
   "metadata": {},
   "source": [
    "# Getting started generating models with noddy\n",
    "\n",
    "1. install pynoddy from source; clone the repo (https://github.com/stevejpurves/pynoddy), then `python setup.py install`\n",
    "1. grab a pre compined version of noddy https://github.com/flohorovicic/pynoddy/tree/master/noddyapp\n",
    "1. make sure noddy is on your path (and maybe restart this notebook)\n",
    "1. then run this script"
   ]
  },
  {
   "cell_type": "markdown",
   "metadata": {},
   "source": [
    "right now we are just trying to explore how to use pynoddy / noddy to generate a model for our needs. best sources of inspiration are the pynoddy docs: http://pynoddy.readthedocs.io/en/latest/ and examples: https://github.com/flohorovicic/pynoddy/tree/master/examples"
   ]
  },
  {
   "cell_type": "code",
   "execution_count": 1,
   "metadata": {
    "collapsed": false
   },
   "outputs": [],
   "source": [
    "import os\n",
    "model_name = 'GBasin_Ve1_V4'\n",
    "history_file = model_name+'.his'\n",
    "output_name = model_name\n",
    "\n",
    "import sys, os\n",
    "import matplotlib.pyplot as plt\n",
    "import numpy as np\n",
    "# adjust some settings for matplotlib\n",
    "from matplotlib import rcParams\n",
    "# print rcParams\n",
    "rcParams['font.size'] = 15\n",
    "import pynoddy\n",
    "import pynoddy.history\n",
    "import pynoddy.output\n",
    "%matplotlib inline"
   ]
  },
  {
   "cell_type": "code",
   "execution_count": 2,
   "metadata": {
    "collapsed": false
   },
   "outputs": [
    {
     "data": {
      "text/plain": [
       "''"
      ]
     },
     "execution_count": 2,
     "metadata": {},
     "output_type": "execute_result"
    }
   ],
   "source": [
    "cube_size=25\n",
    "NH1 = pynoddy.history.NoddyHistory(history_file)\n",
    "NH1.change_cube_size(cube_size)\n",
    "NH1.write_history(history_file+'.mod')\n",
    "pynoddy.compute_model(history_file+'.mod', output_name)"
   ]
  },
  {
   "cell_type": "markdown",
   "metadata": {
    "collapsed": true
   },
   "source": [
    "this will create the block model files with .g\\*\\* extensions. .g01 is density. by modifying the `.his` file or post processing can we make a velocity cube?"
   ]
  },
  {
   "cell_type": "code",
   "execution_count": 3,
   "metadata": {
    "collapsed": true
   },
   "outputs": [],
   "source": [
    "import numpy as np\n",
    "from utils import *"
   ]
  },
  {
   "cell_type": "code",
   "execution_count": 4,
   "metadata": {
    "collapsed": false
   },
   "outputs": [
    {
     "name": "stdout",
     "output_type": "stream",
     "text": [
      "('initial model shape', (208980, 867))\n",
      "('target block shape', (4500, 26630, 19291))\n"
     ]
    },
    {
     "ename": "ValueError",
     "evalue": "total size of new array must be unchanged",
     "output_type": "error",
     "traceback": [
      "\u001b[0;31m---------------------------------------------------------------------------\u001b[0m",
      "\u001b[0;31mValueError\u001b[0m                                Traceback (most recent call last)",
      "\u001b[0;32m<ipython-input-4-e2c21858db77>\u001b[0m in \u001b[0;36m<module>\u001b[0;34m()\u001b[0m\n\u001b[0;32m----> 1\u001b[0;31m \u001b[0mmodel\u001b[0m \u001b[0;34m=\u001b[0m \u001b[0mloadBlock\u001b[0m\u001b[0;34m(\u001b[0m\u001b[0mmodel_name\u001b[0m\u001b[0;34m,\u001b[0m \u001b[0;34m(\u001b[0m\u001b[0;36m4500\u001b[0m\u001b[0;34m,\u001b[0m\u001b[0;36m26630\u001b[0m\u001b[0;34m,\u001b[0m\u001b[0;36m19291\u001b[0m\u001b[0;34m)\u001b[0m\u001b[0;34m,\u001b[0m \u001b[0;36m25\u001b[0m\u001b[0;34m)\u001b[0m\u001b[0;34m\u001b[0m\u001b[0m\n\u001b[0m",
      "\u001b[0;32m/Users/stevejpurves/dev/hackathon/model2seis/model/utils.py\u001b[0m in \u001b[0;36mloadBlock\u001b[0;34m(model_name, block_shape, cube_size)\u001b[0m\n\u001b[1;32m     32\u001b[0m     \u001b[0;32mprint\u001b[0m\u001b[0;34m(\u001b[0m\u001b[0;34m\"target block shape\"\u001b[0m\u001b[0;34m,\u001b[0m \u001b[0mblock_shape\u001b[0m\u001b[0;34m)\u001b[0m\u001b[0;34m\u001b[0m\u001b[0m\n\u001b[1;32m     33\u001b[0m     \u001b[0mblock_size\u001b[0m \u001b[0;34m=\u001b[0m \u001b[0mmap\u001b[0m\u001b[0;34m(\u001b[0m\u001b[0;32mlambda\u001b[0m \u001b[0mx\u001b[0m\u001b[0;34m:\u001b[0m \u001b[0mx\u001b[0m\u001b[0;34m/\u001b[0m\u001b[0mcube_size\u001b[0m\u001b[0;34m,\u001b[0m \u001b[0mblock_shape\u001b[0m\u001b[0;34m)\u001b[0m \u001b[0;31m# must match that in history file\u001b[0m\u001b[0;34m\u001b[0m\u001b[0m\n\u001b[0;32m---> 34\u001b[0;31m     \u001b[0mmodel\u001b[0m \u001b[0;34m=\u001b[0m \u001b[0mmodel\u001b[0m\u001b[0;34m.\u001b[0m\u001b[0mreshape\u001b[0m\u001b[0;34m(\u001b[0m\u001b[0mblock_size\u001b[0m\u001b[0;34m)\u001b[0m\u001b[0;34m\u001b[0m\u001b[0m\n\u001b[0m\u001b[1;32m     35\u001b[0m     \u001b[0;32mreturn\u001b[0m \u001b[0mmodel\u001b[0m\u001b[0;34m\u001b[0m\u001b[0m\n",
      "\u001b[0;31mValueError\u001b[0m: total size of new array must be unchanged"
     ]
    }
   ],
   "source": [
    "model = loadBlock(model_name, (4500,26630,19291), 25)"
   ]
  },
  {
   "cell_type": "code",
   "execution_count": null,
   "metadata": {
    "collapsed": false
   },
   "outputs": [],
   "source": [
    "import matplotlib.pyplot as plt\n",
    "from mpl_toolkits.axes_grid1 import make_axes_locatable\n",
    "from ipywidgets import *\n",
    "def displaySliceFromBlock(model, dir, x):\n",
    "    fig, ax = plt.subplots()\n",
    "    divider = make_axes_locatable(ax)\n",
    "    cax = divider.append_axes('right', size='5%', pad=0.05)\n",
    "    if (dir=='x'):\n",
    "        slice = np.squeeze(model[:,x,:])\n",
    "    elif (dir=='y'):\n",
    "        slice = np.squeeze(model[:,:,x])\n",
    "    else:\n",
    "        slice = np.squeeze(model[x,:,:])\n",
    "    \n",
    "    im = ax.imshow(slice)\n",
    "    fig.colorbar(im, cax=cax, orientation='vertical')\n",
    "    plt.show()\n",
    "\n",
    "f = lambda n: displaySliceFromBlock(model, 'x', n)\n",
    "interact(f, n=(0,400))"
   ]
  },
  {
   "cell_type": "code",
   "execution_count": null,
   "metadata": {
    "collapsed": false,
    "scrolled": false
   },
   "outputs": [],
   "source": [
    "if not os.path.exists('data_'+model_name):\n",
    "    os.makedirs('data_'+model_name)\n",
    "    \n",
    "filename_stub = 'data_'+model_name+'/'+model_name+'_'\n",
    "            \n",
    "extractSlicesFromBlock(model, (25,25), filename_stub)            "
   ]
  },
  {
   "cell_type": "code",
   "execution_count": null,
   "metadata": {
    "collapsed": true
   },
   "outputs": [],
   "source": []
  },
  {
   "cell_type": "code",
   "execution_count": null,
   "metadata": {
    "collapsed": true
   },
   "outputs": [],
   "source": []
  }
 ],
 "metadata": {
  "anaconda-cloud": {},
  "kernelspec": {
   "display_name": "Python [conda env:python2]",
   "language": "python",
   "name": "conda-env-python2-py"
  },
  "language_info": {
   "codemirror_mode": {
    "name": "ipython",
    "version": 2
   },
   "file_extension": ".py",
   "mimetype": "text/x-python",
   "name": "python",
   "nbconvert_exporter": "python",
   "pygments_lexer": "ipython2",
   "version": "2.7.12"
  }
 },
 "nbformat": 4,
 "nbformat_minor": 1
}
