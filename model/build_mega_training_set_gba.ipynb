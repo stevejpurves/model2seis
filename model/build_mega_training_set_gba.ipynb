{
 "cells": [
  {
   "cell_type": "code",
   "execution_count": 9,
   "metadata": {
    "collapsed": false
   },
   "outputs": [
    {
     "name": "stdout",
     "output_type": "stream",
     "text": [
      "fdf numfiles: xz(model:  2000 , seismic: 2000 ) | yz(model: 1600 , seismic: 1600 )\n"
     ]
    }
   ],
   "source": [
    "import numpy as np\n",
    "from logging import Logger\n",
    "\n",
    "%matplotlib inline\n",
    "import sys, os\n",
    "import matplotlib.pyplot as plt\n",
    "\n",
    "base_path = 'data_GBasin_simplified/'\n",
    "\n",
    "files = os.listdir(base_path+'model/')\n",
    "\n",
    "gba_xz_model_files = [base_path+'model/'+x for x in files if x.find('xz') != -1]\n",
    "gba_xz_seismic_r5_files = [base_path+'seismic_r5/'+x for x in files if x.find('xz') != -1]\n",
    "gba_xz_seismic_r8_files = [base_path+'seismic_r8/'+x for x in files if x.find('xz') != -1]\n",
    "gba_xz_seismic_r10_files = [base_path+'seismic_r10/'+x for x in files if x.find('xz') != -1]\n",
    "gba_xz_seismic_r15_files = [base_path+'seismic_r15/'+x for x in files if x.find('xz') != -1]\n",
    "\n",
    "gba_yz_model_files = [base_path+'model/'+x for x in files if x.find('yz') != -1]\n",
    "gba_yz_seismic_r5_files = [base_path+'seismic_r5/'+x for x in files if x.find('yz') != -1]\n",
    "gba_yz_seismic_r8_files = [base_path+'seismic_r8/'+x for x in files if x.find('yz') != -1]\n",
    "gba_yz_seismic_r10_files = [base_path+'seismic_r10/'+x for x in files if x.find('yz') != -1]\n",
    "gba_yz_seismic_r15_files = [base_path+'seismic_r15/'+x for x in files if x.find('yz') != -1]\n",
    "\n",
    "print(\"fdf numfiles: xz(model: \", len(gba_xz_model_files),\n",
    "      \", seismic:\", len(gba_xz_seismic_r5_files),\")\",\n",
    "      \"| yz(model:\", len(gba_yz_model_files), \n",
    "      \", seismic:\", len(gba_yz_seismic_r5_files),\")\")\n",
    "\n"
   ]
  },
  {
   "cell_type": "code",
   "execution_count": 13,
   "metadata": {
    "collapsed": true
   },
   "outputs": [],
   "source": [
    "target_width = 200;\n",
    "\n",
    "out_dir = 'data_mega/'\n",
    "if not os.path.exists(out_dir):\n",
    "    os.makedirs(out_dir)\n",
    "\n",
    "gba_yz_size = (496, 200)\n",
    "gba_xz_size = (376, 200)\n",
    "    \n",
    "def makeCropFlipSet(data):\n",
    "    left = data[:, 0:target_width]\n",
    "    left_flip = np.fliplr(left)\n",
    "    right = data[:, (fdf_xz_size[0]-target_width):fdf_xz_size[0]]\n",
    "    right_flip = np.fliplr(right)\n",
    "    return left, left_flip, right, right_flip\n",
    "    \n",
    "def runCropFlipOnPath(files, image_size, stub):\n",
    "    i = 1\n",
    "    for file in files:\n",
    "        data = np.transpose(np.load(file).reshape(image_size))\n",
    "        left, left_flip, right, right_flip = makeCropFlipSet(data)\n",
    "#         print(left.shape, right.shape)\n",
    "        name = out_dir+stub\n",
    "        np.save(name+'_L_'+str(i), left)\n",
    "        np.save(name+'_LF_'+str(i), left_flip)\n",
    "        np.save(name+'_R_'+str(i), right)\n",
    "        np.save(name+'_RF_'+str(i), right_flip)\n",
    "        i=i+1"
   ]
  },
  {
   "cell_type": "code",
   "execution_count": 12,
   "metadata": {
    "collapsed": false
   },
   "outputs": [
    {
     "name": "stdout",
     "output_type": "stream",
     "text": [
      "data_GBasin_simplified/model/out_0001_yz0.npy\n"
     ]
    },
    {
     "ename": "ValueError",
     "evalue": "cannot reshape array of size 99200 into shape (376,200)",
     "output_type": "error",
     "traceback": [
      "\u001b[0;31m---------------------------------------------------------------------------\u001b[0m",
      "\u001b[0;31mValueError\u001b[0m                                Traceback (most recent call last)",
      "\u001b[0;32m<ipython-input-12-beea3146a126>\u001b[0m in \u001b[0;36m<module>\u001b[0;34m()\u001b[0m\n\u001b[1;32m      1\u001b[0m \u001b[0mprint\u001b[0m\u001b[0;34m(\u001b[0m\u001b[0mgba_yz_model_files\u001b[0m\u001b[0;34m[\u001b[0m\u001b[0;36m0\u001b[0m\u001b[0;34m]\u001b[0m\u001b[0;34m)\u001b[0m\u001b[0;34m\u001b[0m\u001b[0m\n\u001b[0;32m----> 2\u001b[0;31m \u001b[0mdata\u001b[0m \u001b[0;34m=\u001b[0m \u001b[0mnp\u001b[0m\u001b[0;34m.\u001b[0m\u001b[0mtranspose\u001b[0m\u001b[0;34m(\u001b[0m\u001b[0mnp\u001b[0m\u001b[0;34m.\u001b[0m\u001b[0mload\u001b[0m\u001b[0;34m(\u001b[0m\u001b[0mgba_yz_model_files\u001b[0m\u001b[0;34m[\u001b[0m\u001b[0;36m0\u001b[0m\u001b[0;34m]\u001b[0m\u001b[0;34m)\u001b[0m\u001b[0;34m.\u001b[0m\u001b[0mreshape\u001b[0m\u001b[0;34m(\u001b[0m\u001b[0mgba_yz_size\u001b[0m\u001b[0;34m)\u001b[0m\u001b[0;34m)\u001b[0m\u001b[0;34m\u001b[0m\u001b[0m\n\u001b[0m\u001b[1;32m      3\u001b[0m \u001b[0mleft\u001b[0m\u001b[0;34m,\u001b[0m \u001b[0mleft_flip\u001b[0m\u001b[0;34m,\u001b[0m \u001b[0mright\u001b[0m\u001b[0;34m,\u001b[0m \u001b[0mright_flip\u001b[0m \u001b[0;34m=\u001b[0m \u001b[0mmakeCropFlipSet\u001b[0m\u001b[0;34m(\u001b[0m\u001b[0mdata\u001b[0m\u001b[0;34m)\u001b[0m\u001b[0;34m\u001b[0m\u001b[0m\n\u001b[1;32m      4\u001b[0m \u001b[0mprint\u001b[0m\u001b[0;34m(\u001b[0m\u001b[0mleft\u001b[0m\u001b[0;34m.\u001b[0m\u001b[0mshape\u001b[0m\u001b[0;34m,\u001b[0m \u001b[0mleft_flip\u001b[0m\u001b[0;34m.\u001b[0m\u001b[0mshape\u001b[0m\u001b[0;34m,\u001b[0m \u001b[0mright\u001b[0m\u001b[0;34m.\u001b[0m\u001b[0mshape\u001b[0m\u001b[0;34m,\u001b[0m \u001b[0mright_flip\u001b[0m\u001b[0;34m.\u001b[0m\u001b[0mshape\u001b[0m\u001b[0;34m)\u001b[0m\u001b[0;34m\u001b[0m\u001b[0m\n\u001b[1;32m      5\u001b[0m \u001b[0;34m\u001b[0m\u001b[0m\n",
      "\u001b[0;31mValueError\u001b[0m: cannot reshape array of size 99200 into shape (376,200)"
     ]
    }
   ],
   "source": [
    "print(gba_yz_model_files[0])\n",
    "data = np.transpose(np.load(gba_yz_model_files[0]).reshape(gba_yz_size))\n",
    "left, left_flip, right, right_flip = makeCropFlipSet(data)\n",
    "print(left.shape, left_flip.shape, right.shape, right_flip.shape)\n",
    "\n",
    "plt.subplot(2,2,1)\n",
    "plt.imshow(left)\n",
    "plt.subplot(2,2,2)\n",
    "plt.imshow(left_flip)\n",
    "plt.subplot(2,2,3)\n",
    "plt.imshow(right)\n",
    "plt.subplot(2,2,4)\n",
    "plt.imshow(right_flip)"
   ]
  },
  {
   "cell_type": "code",
   "execution_count": 114,
   "metadata": {
    "collapsed": false,
    "scrolled": false
   },
   "outputs": [],
   "source": [
    "\n",
    "runCropFlipOnPath(fdf_xz_model_files, fdf_xz_size, 'fdf_model_xz')\n",
    "runCropFlipOnPath(fdf_xz_seismic_r5_files, fdf_xz_size, 'fdf_seismic_r5_xz')\n",
    "runCropFlipOnPath(fdf_xz_seismic_r8_files, fdf_xz_size, 'fdf_seismic_r8_xz')\n",
    "runCropFlipOnPath(fdf_xz_seismic_r10_files, fdf_xz_size, 'fdf_seismic_r10_xz')\n",
    "runCropFlipOnPath(fdf_xz_seismic_r15_files, fdf_xz_size, 'fdf_seimic_r15_xz')\n",
    "    \n",
    "    \n",
    "runCropFlipOnPath(fdf_yz_model_files, fdf_yz_size, 'fdf_model_yz')\n",
    "runCropFlipOnPath(fdf_yz_seismic_r5_files, fdf_yz_size, 'fdf_seismic_r5_yz')\n",
    "runCropFlipOnPath(fdf_yz_seismic_r8_files, fdf_yz_size, 'fdf_seismic_r8_yz')\n",
    "runCropFlipOnPath(fdf_yz_seismic_r10_files, fdf_yz_size, 'fdf_seismic_r10_yz')\n",
    "runCropFlipOnPath(fdf_yz_seismic_r15_files, fdf_yz_size, 'fdf_seismic_r15_yz')\n",
    "    "
   ]
  },
  {
   "cell_type": "code",
   "execution_count": null,
   "metadata": {
    "collapsed": true
   },
   "outputs": [],
   "source": [
    "files = os.listdir('data_GBasin_simplified/model/')\n",
    "gba_size = (496, 200)\n",
    "gba_size = (376, 200)\n",
    "\n",
    "gba_xz_model_files = ['data_GBasin_simplified/model/'+x for x in files if x.find('xz') != -1]\n",
    "gba_yz_seismic_files = ['data_GBasin_simplified/seismic/'+x for x in files if x.find('yz') != -1]\n",
    "\n",
    "gba_xz_model_files = ['data_GBasin_simplified/model/'+x for x in files if x.find('xz') != -1]\n",
    "gba_yz_seismic_files = ['data_GBasin_simplified/seismic/'+x for x in files if x.find('yz') != -1]\n",
    "\n",
    "print(\"gda numfiles: xz(model: \", len(gba_xz_model_files),\n",
    "      \", seismic:\", len(gba_yz_seismic_files),\")\",\n",
    "      \"| yz(model:\", len(gba_xz_model_files), \n",
    "      \", seismic:\", len(gba_yz_seismic_files),\")\")"
   ]
  },
  {
   "cell_type": "code",
   "execution_count": null,
   "metadata": {
    "collapsed": true
   },
   "outputs": [],
   "source": [
    "data = np.transpose(np.load(fdf_yz_model_files[0]).reshape(fdf_yz_size))\n",
    "left, left_flip, right, right_flip = makeCropFlipSet(data)\n",
    "\n",
    "plt.subplot(2,2,1)\n",
    "plt.imshow(left)\n",
    "plt.subplot(2,2,2)\n",
    "plt.imshow(left_flip)\n",
    "plt.subplot(2,2,3)\n",
    "plt.imshow(right)\n",
    "plt.subplot(2,2,4)\n",
    "plt.imshow(right_flip)"
   ]
  },
  {
   "cell_type": "code",
   "execution_count": null,
   "metadata": {
    "collapsed": true
   },
   "outputs": [],
   "source": [
    "runCropFlipOnPath(fdf_xz_model_files, fdf_xz_size, 'fdf_model_xz')\n",
    "runCropFlipOnPath(fdf_xz_seismic_r5_files, fdf_xz_size, 'fdf_sesimic_r5_xz')\n",
    "runCropFlipOnPath(fdf_xz_seismic_r8_files, fdf_xz_size, 'fdf_sesimic_r8_xz')\n",
    "runCropFlipOnPath(fdf_xz_seismic_r10_files, fdf_xz_size, 'fdf_sesimic_r10_xz')\n",
    "runCropFlipOnPath(fdf_xz_seismic_r15_files, fdf_xz_size, 'fdf_sesimic_r15_xz')\n",
    "    \n",
    "    \n",
    "runCropFlipOnPath(fdf_yz_model_files, fdf_yz_size, 'fdf_model_yz')\n",
    "runCropFlipOnPath(fdf_yz_seismic_r5_files, fdf_yz_size, 'fdf_sesimic_r5_yz')\n",
    "runCropFlipOnPath(fdf_yz_seismic_r8_files, fdf_yz_size, 'fdf_sesimic_r8_yz')\n",
    "runCropFlipOnPath(fdf_yz_seismic_r10_files, fdf_yz_size, 'fdf_sesimic_r10_yz')\n",
    "runCropFlipOnPath(fdf_yz_seismic_r15_files, fdf_yz_size, 'fdf_sesimic_r15_yz')"
   ]
  },
  {
   "cell_type": "code",
   "execution_count": null,
   "metadata": {
    "collapsed": true
   },
   "outputs": [],
   "source": []
  },
  {
   "cell_type": "code",
   "execution_count": null,
   "metadata": {
    "collapsed": true
   },
   "outputs": [],
   "source": []
  },
  {
   "cell_type": "code",
   "execution_count": null,
   "metadata": {
    "collapsed": true
   },
   "outputs": [],
   "source": []
  }
 ],
 "metadata": {
  "anaconda-cloud": {},
  "kernelspec": {
   "display_name": "Python [conda root]",
   "language": "python",
   "name": "conda-root-py"
  },
  "language_info": {
   "codemirror_mode": {
    "name": "ipython",
    "version": 3
   },
   "file_extension": ".py",
   "mimetype": "text/x-python",
   "name": "python",
   "nbconvert_exporter": "python",
   "pygments_lexer": "ipython3",
   "version": "3.5.2"
  }
 },
 "nbformat": 4,
 "nbformat_minor": 1
}
