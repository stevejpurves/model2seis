{
 "cells": [
  {
   "cell_type": "markdown",
   "metadata": {},
   "source": [
    "# Getting started generating models with noddy\n",
    "\n",
    "1. install pynoddy `pip install pynoddy`\n",
    "1. grab a pre compined version of noddy https://github.com/flohorovicic/pynoddy/tree/master/noddyapp\n",
    "1. make sure noddy is on your path (and maybe restart this notebook)\n",
    "1. then run this script"
   ]
  },
  {
   "cell_type": "markdown",
   "metadata": {},
   "source": [
    "right now we are just trying to explore how to use pynoddy / noddy to generate a model for our needs. best sources of inspiration are the pynoddy docs: http://pynoddy.readthedocs.io/en/latest/ and examples: https://github.com/flohorovicic/pynoddy/tree/master/examples"
   ]
  },
  {
   "cell_type": "code",
   "execution_count": 11,
   "metadata": {
    "collapsed": false
   },
   "outputs": [],
   "source": [
    "import os\n",
    "model_name = 'fold_dyke_fault'\n",
    "history_file = model_name+'.his'\n",
    "output_name = model_name\n",
    "\n",
    "import sys, os\n",
    "import matplotlib.pyplot as plt\n",
    "import numpy as np\n",
    "# adjust some settings for matplotlib\n",
    "from matplotlib import rcParams\n",
    "# print rcParams\n",
    "rcParams['font.size'] = 15\n",
    "import pynoddy\n",
    "import pynoddy.history\n",
    "import pynoddy.output\n",
    "%matplotlib inline"
   ]
  },
  {
   "cell_type": "code",
   "execution_count": 12,
   "metadata": {
    "collapsed": false
   },
   "outputs": [
    {
     "data": {
      "text/plain": [
       "''"
      ]
     },
     "execution_count": 12,
     "metadata": {},
     "output_type": "execute_result"
    }
   ],
   "source": [
    "cube_size=25\n",
    "NH1 = pynoddy.history.NoddyHistory(history_file)\n",
    "NH1.change_cube_size(cube_size)\n",
    "NH1.write_history(history_file+'.mod')\n",
    "pynoddy.compute_model(history_file+'.mod', output_name)"
   ]
  },
  {
   "cell_type": "markdown",
   "metadata": {
    "collapsed": true
   },
   "source": [
    "this will create the block model files with .g\\*\\* extensions. .g01 is density. by modifying the `.his` file or post processing can we make a velocity cube?"
   ]
  },
  {
   "cell_type": "code",
   "execution_count": 13,
   "metadata": {
    "collapsed": false
   },
   "outputs": [],
   "source": [
    "# load the first block file\n",
    "import numpy as np\n",
    "model = np.genfromtxt(model_name+\".g01\", dtype='float')"
   ]
  },
  {
   "cell_type": "code",
   "execution_count": 14,
   "metadata": {
    "collapsed": false
   },
   "outputs": [
    {
     "name": "stdout",
     "output_type": "stream",
     "text": [
      "[200, 400, 280] (80000, 280)\n",
      "(200, 400, 280)\n"
     ]
    }
   ],
   "source": [
    "block_size = map(lambda x: x/cube_size, (5000,10000,7000)) # must match that in history file\n",
    "print block_size, model.shape\n",
    "model = model.reshape(block_size)\n",
    "print model.shape"
   ]
  },
  {
   "cell_type": "code",
   "execution_count": 17,
   "metadata": {
    "collapsed": false
   },
   "outputs": [
    {
     "ename": "IndexError",
     "evalue": "index 200 is out of bounds for axis 0 with size 200",
     "output_type": "error",
     "traceback": [
      "\u001b[0;31m---------------------------------------------------------------------------\u001b[0m",
      "\u001b[0;31mIndexError\u001b[0m                                Traceback (most recent call last)",
      "\u001b[0;32m<ipython-input-17-510b93ccb6ed>\u001b[0m in \u001b[0;36m<lambda>\u001b[0;34m(n)\u001b[0m\n\u001b[1;32m     17\u001b[0m     \u001b[0mplt\u001b[0m\u001b[0;34m.\u001b[0m\u001b[0mshow\u001b[0m\u001b[0;34m(\u001b[0m\u001b[0;34m)\u001b[0m\u001b[0;34m\u001b[0m\u001b[0m\n\u001b[1;32m     18\u001b[0m \u001b[0;34m\u001b[0m\u001b[0m\n\u001b[0;32m---> 19\u001b[0;31m \u001b[0mf\u001b[0m \u001b[0;34m=\u001b[0m \u001b[0;32mlambda\u001b[0m \u001b[0mn\u001b[0m\u001b[0;34m:\u001b[0m \u001b[0mdisplay_slice_from_block\u001b[0m\u001b[0;34m(\u001b[0m\u001b[0mmodel\u001b[0m\u001b[0;34m,\u001b[0m \u001b[0;34m'z'\u001b[0m\u001b[0;34m,\u001b[0m \u001b[0mn\u001b[0m\u001b[0;34m)\u001b[0m\u001b[0;34m\u001b[0m\u001b[0m\n\u001b[0m\u001b[1;32m     20\u001b[0m \u001b[0minteract\u001b[0m\u001b[0;34m(\u001b[0m\u001b[0mf\u001b[0m\u001b[0;34m,\u001b[0m \u001b[0mn\u001b[0m\u001b[0;34m=\u001b[0m\u001b[0;34m(\u001b[0m\u001b[0;36m0\u001b[0m\u001b[0;34m,\u001b[0m\u001b[0;36m400\u001b[0m\u001b[0;34m)\u001b[0m\u001b[0;34m)\u001b[0m\u001b[0;34m\u001b[0m\u001b[0m\n",
      "\u001b[0;32m<ipython-input-17-510b93ccb6ed>\u001b[0m in \u001b[0;36mdisplay_slice_from_block\u001b[0;34m(model, dir, x)\u001b[0m\n\u001b[1;32m     11\u001b[0m         \u001b[0mslice\u001b[0m \u001b[0;34m=\u001b[0m \u001b[0mnp\u001b[0m\u001b[0;34m.\u001b[0m\u001b[0msqueeze\u001b[0m\u001b[0;34m(\u001b[0m\u001b[0mmodel\u001b[0m\u001b[0;34m[\u001b[0m\u001b[0;34m:\u001b[0m\u001b[0;34m,\u001b[0m\u001b[0;34m:\u001b[0m\u001b[0;34m,\u001b[0m\u001b[0mx\u001b[0m\u001b[0;34m]\u001b[0m\u001b[0;34m)\u001b[0m\u001b[0;34m\u001b[0m\u001b[0m\n\u001b[1;32m     12\u001b[0m     \u001b[0;32melse\u001b[0m\u001b[0;34m:\u001b[0m\u001b[0;34m\u001b[0m\u001b[0m\n\u001b[0;32m---> 13\u001b[0;31m         \u001b[0mslice\u001b[0m \u001b[0;34m=\u001b[0m \u001b[0mnp\u001b[0m\u001b[0;34m.\u001b[0m\u001b[0msqueeze\u001b[0m\u001b[0;34m(\u001b[0m\u001b[0mmodel\u001b[0m\u001b[0;34m[\u001b[0m\u001b[0mx\u001b[0m\u001b[0;34m,\u001b[0m\u001b[0;34m:\u001b[0m\u001b[0;34m,\u001b[0m\u001b[0;34m:\u001b[0m\u001b[0;34m]\u001b[0m\u001b[0;34m)\u001b[0m\u001b[0;34m\u001b[0m\u001b[0m\n\u001b[0m\u001b[1;32m     14\u001b[0m \u001b[0;34m\u001b[0m\u001b[0m\n\u001b[1;32m     15\u001b[0m     \u001b[0mim\u001b[0m \u001b[0;34m=\u001b[0m \u001b[0max\u001b[0m\u001b[0;34m.\u001b[0m\u001b[0mimshow\u001b[0m\u001b[0;34m(\u001b[0m\u001b[0mslice\u001b[0m\u001b[0;34m)\u001b[0m\u001b[0;34m\u001b[0m\u001b[0m\n",
      "\u001b[0;31mIndexError\u001b[0m: index 200 is out of bounds for axis 0 with size 200"
     ]
    },
    {
     "data": {
      "text/plain": [
       "<function __main__.<lambda>>"
      ]
     },
     "execution_count": 17,
     "metadata": {},
     "output_type": "execute_result"
    },
    {
     "data": {
      "image/png": "[encoded data removed]",
      "text/plain": [
       "<matplotlib.figure.Figure at 0x15bc85750>"
      ]
     },
     "metadata": {},
     "output_type": "display_data"
    }
   ],
   "source": [
    "import matplotlib.pyplot as plt\n",
    "from mpl_toolkits.axes_grid1 import make_axes_locatable\n",
    "from ipywidgets import *\n",
    "def display_slice_from_block(model, dir, x):\n",
    "    fig, ax = plt.subplots()\n",
    "    divider = make_axes_locatable(ax)\n",
    "    cax = divider.append_axes('right', size='5%', pad=0.05)\n",
    "    if (dir=='x'):\n",
    "        slice = np.squeeze(model[:,x,:])\n",
    "    elif (dir=='y'):\n",
    "        slice = np.squeeze(model[:,:,x])\n",
    "    else:\n",
    "        slice = np.squeeze(model[x,:,:])\n",
    "    \n",
    "    im = ax.imshow(slice)\n",
    "    fig.colorbar(im, cax=cax, orientation='vertical')\n",
    "    plt.show()\n",
    "\n",
    "f = lambda n: display_slice_from_block(model, 'z', n)\n",
    "interact(f, n=(0,400))"
   ]
  },
  {
   "cell_type": "code",
   "execution_count": 22,
   "metadata": {
    "collapsed": false,
    "scrolled": false
   },
   "outputs": [
    {
     "data": {
      "image/png": "[encoded data removed]",
      "text/plain": [
       "<matplotlib.figure.Figure at 0x11b6621d0>"
      ]
     },
     "metadata": {},
     "output_type": "display_data"
    }
   ],
   "source": [
    "if not os.path.exists('data_'+model_name):\n",
    "    os.makedirs('data_'+model_name)\n",
    "    \n",
    "fig, ax = plt.subplots()\n",
    "def saveAsPng(fig, ax, slice, filename):\n",
    "    divider = make_axes_locatable(ax)\n",
    "    cax = divider.append_axes('right', size='5%', pad=0.05)\n",
    "    im = ax.imshow(slice)\n",
    "    fig.colorbar(im, cax=cax, orientation='vertical')\n",
    "    plt.savefig(filename+'.png')\n",
    "    \n",
    "filename_stub = 'data_'+model_name+'/'+model_name+'_'\n",
    "\n",
    "# save out x-z sections\n",
    "for n in range(0, model.shape[1], 25):\n",
    "    slice = np.transpose(np.squeeze(model[:,n,:]))\n",
    "    filename = filename_stub+'xz'+str(n)\n",
    "    saveAsPng(fig, ax,slice, filename)\n",
    "    with open(filename+'.su', 'wb+') as f:\n",
    "        f.write(slice.byteswap().tobytes())\n",
    "    \n",
    "\n",
    "# save out y-z sections\n",
    "for n in range(0, model.shape[2], 25):\n",
    "    slice = np.transpose(np.squeeze(model[:,:,n]))\n",
    "    filename=filename_stub+'yz'+str(n);\n",
    "    saveAsPng(fig, ax,slice, filename)\n",
    "    with open(filename+'.su', 'wb+') as f:\n",
    "        f.write(slice.byteswap().tobytes())"
   ]
  },
  {
   "cell_type": "markdown",
   "metadata": {
    "collapsed": true
   },
   "source": [
    "todo\n",
    " - [x] generate a single slice model\n",
    " - [x] make it the right size\n",
    " - [ ] get variabiity into models using the pynoddy stochastics / . uncertainty gubbins\n",
    " - [ ] batch process -  makes 1000's\n",
    " - [x] ascii to binary conversion script, to get the models into su\n",
    " - [x] visualise a model in a notebook"
   ]
  },
  {
   "cell_type": "code",
   "execution_count": null,
   "metadata": {
    "collapsed": true
   },
   "outputs": [],
   "source": []
  }
 ],
 "metadata": {
  "anaconda-cloud": {},
  "kernelspec": {
   "display_name": "Python [conda env:python2]",
   "language": "python",
   "name": "conda-env-python2-py"
  },
  "language_info": {
   "codemirror_mode": {
    "name": "ipython",
    "version": 2
   },
   "file_extension": ".py",
   "mimetype": "text/x-python",
   "name": "python",
   "nbconvert_exporter": "python",
   "pygments_lexer": "ipython2",
   "version": "2.7.12"
  },
  "widgets": {
   "state": {
    "70ec5b55b0bc4220b31d4be5a914ffce": {
     "views": [
      {
       "cell_index": 7
      }
     ]
    }
   },
   "version": "1.2.0"
  }
 },
 "nbformat": 4,
 "nbformat_minor": 1
}
