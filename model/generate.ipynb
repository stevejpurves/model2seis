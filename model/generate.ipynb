{
 "cells": [
  {
   "cell_type": "markdown",
   "metadata": {},
   "source": [
    "# Getting started generating models with noddy\n",
    "\n",
    "1. install pynoddy `pip install pynoddy`\n",
    "1. grab a pre compined version of noddy https://github.com/flohorovicic/pynoddy/tree/master/noddyapp\n",
    "1. make sure noddy is on your path (and maybe restart this notebook)\n",
    "1. then run this script"
   ]
  },
  {
   "cell_type": "markdown",
   "metadata": {},
   "source": [
    "right now we are just trying to explore how to use pynoddy / noddy to generate a model for our needs. best sources of inspiration are the pynoddy docs: http://pynoddy.readthedocs.io/en/latest/ and examples: https://github.com/flohorovicic/pynoddy/tree/master/examples"
   ]
  },
  {
   "cell_type": "code",
   "execution_count": 1,
   "metadata": {
    "collapsed": false
   },
   "outputs": [
    {
     "name": "stdout",
     "output_type": "stream",
     "text": [
      "./simple_two_faults_slice.his\n"
     ]
    }
   ],
   "source": [
    "import os\n",
    "history_file = './simple_two_faults_slice.his'\n",
    "output_stub = 'simple'\n",
    "\n",
    "print history_file"
   ]
  },
  {
   "cell_type": "code",
   "execution_count": 3,
   "metadata": {
    "collapsed": false
   },
   "outputs": [
    {
     "data": {
      "text/plain": [
       "1"
      ]
     },
     "execution_count": 3,
     "metadata": {},
     "output_type": "execute_result"
    }
   ],
   "source": [
    "import subprocess\n",
    "subprocess.call(['noddy', history_file, output_stub, 'BLOCK'])"
   ]
  },
  {
   "cell_type": "markdown",
   "metadata": {
    "collapsed": true
   },
   "source": [
    "this will create the block model files with .g\\*\\* extensions. .g01 is density. by modifying the `.his` file or post processing can we make a velocity cube?"
   ]
  },
  {
   "cell_type": "markdown",
   "metadata": {
    "collapsed": true
   },
   "source": [
    "todo\n",
    " - [x] generate a single slice model\n",
    " - [ ] make it the right size right size\n",
    " - [ ] get variabiity into models using the pynoddy stochastics / . uncertainty gubbins\n",
    " - [ ] batch process -  makes 1000's\n",
    " - [ ] ascii to binary conversion script, to get the models into su\n",
    " - [ ] visualise a model in a notebook"
   ]
  },
  {
   "cell_type": "code",
   "execution_count": null,
   "metadata": {
    "collapsed": true
   },
   "outputs": [],
   "source": []
  }
 ],
 "metadata": {
  "anaconda-cloud": {},
  "kernelspec": {
   "display_name": "Python [conda env:python2]",
   "language": "python",
   "name": "conda-env-python2-py"
  },
  "language_info": {
   "codemirror_mode": {
    "name": "ipython",
    "version": 2
   },
   "file_extension": ".py",
   "mimetype": "text/x-python",
   "name": "python",
   "nbconvert_exporter": "python",
   "pygments_lexer": "ipython2",
   "version": "2.7.12"
  }
 },
 "nbformat": 4,
 "nbformat_minor": 1
}
