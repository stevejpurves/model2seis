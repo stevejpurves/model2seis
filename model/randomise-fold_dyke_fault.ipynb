{
 "cells": [
  {
   "cell_type": "code",
   "execution_count": 5,
   "metadata": {
    "collapsed": false
   },
   "outputs": [],
   "source": [
    "%matplotlib inline\n",
    "import sys, os\n",
    "import matplotlib.pyplot as plt\n",
    "import numpy as np\n",
    "# adjust some settings for matplotlib\n",
    "from matplotlib import rcParams\n",
    "# print rcParams\n",
    "rcParams['font.size'] = 15\n",
    "# determine path of repository to set paths corretly below\n",
    "repo_path = os.path.realpath('../..')\n",
    "import pynoddy\n",
    "import pynoddy.history\n",
    "import pynoddy.output\n",
    "import pynoddy.experiment.uncertainty_analysis"
   ]
  },
  {
   "cell_type": "code",
   "execution_count": 6,
   "metadata": {
    "collapsed": true
   },
   "outputs": [],
   "source": [
    "cube_size = 25\n",
    "model_name = 'fold_dyke_fault'\n",
    "block_shape = (5000,10000,7000)\n",
    "model_path = 'models_'+model_name\n",
    "num_realisations = 1"
   ]
  },
  {
   "cell_type": "code",
   "execution_count": null,
   "metadata": {
    "collapsed": false,
    "scrolled": true
   },
   "outputs": [
    {
     "name": "stdout",
     "output_type": "stream",
     "text": [
      "Producing model realisations...\n",
      "Constructing out_0001... \n",
      "Changing Dip to 45.2316617036\n",
      "Changing Dip Direction to 88.2466725675\n",
      "Changing Slip to 1865.38488899\n",
      "Changing Dip to 93.8037796558\n",
      "Changing Dip Direction to 136.817618975\n",
      "Complete.\n",
      "Running out_0001... \n",
      "\n",
      "Complete.\n",
      "Loading models...\n",
      "Loading models in models_fold_dyke_fault\n",
      "Loading models_fold_dyke_fault/out_0001\n",
      "Loading models_fold_dyke_fault/out_0002\n"
     ]
    }
   ],
   "source": [
    "history_file = model_name+'.his'\n",
    "NH1 = pynoddy.history.NoddyHistory(history_file)\n",
    "NH1.change_cube_size(cube_size)\n",
    "NH1.write_history(history_file+'.mod')\n",
    "\n",
    "ua = pynoddy.experiment.uncertainty_analysis.UncertaintyAnalysis(model_name+'.his.mod', model_name+'.csv')\n",
    "ua.estimate_uncertainty(num_realisations,verbose=True, model_path=model_path, cleanup=False)"
   ]
  },
  {
   "cell_type": "code",
   "execution_count": null,
   "metadata": {
    "collapsed": false
   },
   "outputs": [],
   "source": [
    "import os\n",
    "from utils import *\n",
    "\n",
    "# cube_size = 25\n",
    "# model_name = 'fold_dyke_fault'\n",
    "# block_shape = (5000,10000,7000)\n",
    "# num_realisations = 10\n",
    "output_path = 'data_'+model_name\n",
    "\n",
    "if not os.path.exists(output_path):\n",
    "    os.makedirs(output_path)\n",
    "    \n",
    "output_filename_stub = output_path+'/'\n",
    "print output_filename_stub\n",
    "\n",
    "for n in range(0,num_realisations):\n",
    "    label = '{0:04d}'.format(n+1) \n",
    "    \n",
    "    block_file_name = model_path+'/out_'+label\n",
    "    print(\"loading...\", block_file_name)\n",
    "    model = loadBlock(block_file_name, block_shape, cube_size)\n",
    "    \n",
    "    outfile = output_filename_stub+'out_'+label+'_'\n",
    "    print(\"writing to...\", output_filename_stub+'out_'+label+'_')\n",
    "    extractSlicesFromBlock(model, (25,25), outfile)"
   ]
  },
  {
   "cell_type": "code",
   "execution_count": null,
   "metadata": {
    "collapsed": true
   },
   "outputs": [],
   "source": []
  }
 ],
 "metadata": {
  "anaconda-cloud": {},
  "kernelspec": {
   "display_name": "Python [conda env:python2]",
   "language": "python",
   "name": "conda-env-python2-py"
  },
  "language_info": {
   "codemirror_mode": {
    "name": "ipython",
    "version": 2
   },
   "file_extension": ".py",
   "mimetype": "text/x-python",
   "name": "python",
   "nbconvert_exporter": "python",
   "pygments_lexer": "ipython2",
   "version": "2.7.12"
  }
 },
 "nbformat": 4,
 "nbformat_minor": 1
}
