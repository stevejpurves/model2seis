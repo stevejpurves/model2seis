{
 "cells": [
  {
   "cell_type": "code",
   "execution_count": 20,
   "metadata": {
    "collapsed": false,
    "scrolled": true
   },
   "outputs": [],
   "source": [
    "import numpy as np\n",
    "\n",
    "def ricker( duration, dt, f ):\n",
    "    freq = np.array( f )\n",
    "    t = np.arange( -duration/2, duration/2 , dt)\n",
    "    output = np.zeros( (t.size, freq.size ) )\n",
    "    for i in range(freq.size):\n",
    "        pi2 = (np.pi ** 2.0)\n",
    "        if ( freq.size == 1 ):\n",
    "            fsqr = freq ** 2.0\n",
    "        else:\n",
    "            fsqr = freq[i] ** 2.0\n",
    "        tsqr = t ** 2.0\n",
    "        pft = pi2 * fsqr * tsqr\n",
    "        A = (1 - (2 * pft)) * np.exp(-pft)\n",
    "        output[:,i] = A\n",
    "    if freq.size == 1: output = output.flatten()\n",
    "    return output"
   ]
  },
  {
   "cell_type": "code",
   "execution_count": 50,
   "metadata": {
    "collapsed": false
   },
   "outputs": [
    {
     "name": "stdout",
     "output_type": "stream",
     "text": [
      "processing out_0001_xz0.su\n"
     ]
    },
    {
     "ename": "FileNotFoundError",
     "evalue": "[Errno 2] No such file or directory: 'data_fold_dyke_fault/su//seismic/out_0001_xz0.su.npz.npy'",
     "output_type": "error",
     "traceback": [
      "\u001b[0;31m---------------------------------------------------------------------------\u001b[0m",
      "\u001b[0;31mFileNotFoundError\u001b[0m                         Traceback (most recent call last)",
      "\u001b[0;32m<ipython-input-50-40bd2e6a0668>\u001b[0m in \u001b[0;36m<module>\u001b[0;34m()\u001b[0m\n\u001b[1;32m     25\u001b[0m \u001b[0;32mfor\u001b[0m \u001b[0mf\u001b[0m \u001b[0;32min\u001b[0m \u001b[0mxz_files\u001b[0m\u001b[0;34m:\u001b[0m\u001b[0;34m\u001b[0m\u001b[0m\n\u001b[1;32m     26\u001b[0m     \u001b[0mseismic\u001b[0m \u001b[0;34m=\u001b[0m \u001b[0mconvolve\u001b[0m\u001b[0;34m(\u001b[0m\u001b[0mw\u001b[0m\u001b[0;34m,\u001b[0m \u001b[0mf\u001b[0m\u001b[0;34m,\u001b[0m \u001b[0mxz_size\u001b[0m\u001b[0;34m)\u001b[0m\u001b[0;34m\u001b[0m\u001b[0m\n\u001b[0;32m---> 27\u001b[0;31m     \u001b[0mnp\u001b[0m\u001b[0;34m.\u001b[0m\u001b[0msave\u001b[0m\u001b[0;34m(\u001b[0m\u001b[0mpath_to_files\u001b[0m\u001b[0;34m+\u001b[0m\u001b[0;34m'/seismic/'\u001b[0m\u001b[0;34m+\u001b[0m\u001b[0mf\u001b[0m\u001b[0;34m+\u001b[0m\u001b[0;34m'.npz'\u001b[0m\u001b[0;34m,\u001b[0m \u001b[0mseismic\u001b[0m\u001b[0;34m)\u001b[0m\u001b[0;34m\u001b[0m\u001b[0m\n\u001b[0m\u001b[1;32m     28\u001b[0m \u001b[0;34m\u001b[0m\u001b[0m\n\u001b[1;32m     29\u001b[0m \u001b[0;32mfor\u001b[0m \u001b[0mf\u001b[0m \u001b[0;32min\u001b[0m \u001b[0myz_files\u001b[0m\u001b[0;34m:\u001b[0m\u001b[0;34m\u001b[0m\u001b[0m\n",
      "\u001b[0;32m/Users/stevejpurves/anaconda3/lib/python3.5/site-packages/numpy/lib/npyio.py\u001b[0m in \u001b[0;36msave\u001b[0;34m(file, arr, allow_pickle, fix_imports)\u001b[0m\n\u001b[1;32m    488\u001b[0m         \u001b[0;32mif\u001b[0m \u001b[0;32mnot\u001b[0m \u001b[0mfile\u001b[0m\u001b[0;34m.\u001b[0m\u001b[0mendswith\u001b[0m\u001b[0;34m(\u001b[0m\u001b[0;34m'.npy'\u001b[0m\u001b[0;34m)\u001b[0m\u001b[0;34m:\u001b[0m\u001b[0;34m\u001b[0m\u001b[0m\n\u001b[1;32m    489\u001b[0m             \u001b[0mfile\u001b[0m \u001b[0;34m=\u001b[0m \u001b[0mfile\u001b[0m \u001b[0;34m+\u001b[0m \u001b[0;34m'.npy'\u001b[0m\u001b[0;34m\u001b[0m\u001b[0m\n\u001b[0;32m--> 490\u001b[0;31m         \u001b[0mfid\u001b[0m \u001b[0;34m=\u001b[0m \u001b[0mopen\u001b[0m\u001b[0;34m(\u001b[0m\u001b[0mfile\u001b[0m\u001b[0;34m,\u001b[0m \u001b[0;34m\"wb\"\u001b[0m\u001b[0;34m)\u001b[0m\u001b[0;34m\u001b[0m\u001b[0m\n\u001b[0m\u001b[1;32m    491\u001b[0m         \u001b[0mown_fid\u001b[0m \u001b[0;34m=\u001b[0m \u001b[0;32mTrue\u001b[0m\u001b[0;34m\u001b[0m\u001b[0m\n\u001b[1;32m    492\u001b[0m     \u001b[0;32melif\u001b[0m \u001b[0mis_pathlib_path\u001b[0m\u001b[0;34m(\u001b[0m\u001b[0mfile\u001b[0m\u001b[0;34m)\u001b[0m\u001b[0;34m:\u001b[0m\u001b[0;34m\u001b[0m\u001b[0m\n",
      "\u001b[0;31mFileNotFoundError\u001b[0m: [Errno 2] No such file or directory: 'data_fold_dyke_fault/su//seismic/out_0001_xz0.su.npz.npy'"
     ]
    }
   ],
   "source": [
    "%matplotlib inline\n",
    "import sys, os\n",
    "import matplotlib.pyplot as plt\n",
    "\n",
    "path_to_files = 'data_fold_dyke_fault/su/'\n",
    "files = os.listdir(path_to_files)\n",
    "su_files = [x for x in files if x.find(\".su\") != -1] \n",
    "\n",
    "yz_files = [x for x in su_files if x.find(\"yz\") != -1]\n",
    "yz_size = (400, 200)\n",
    "\n",
    "xz_files = [x for x in su_files if x.find(\"xz\") != -1]\n",
    "xz_size = (280, 200)\n",
    "\n",
    "w = ricker(0.25, 0.004, 10)\n",
    "\n",
    "def convolve(w, file, slice_shape):\n",
    "    print(\"processing\", file)\n",
    "    slice = np.fromfile(path_to_files + file, dtype=np.float64)\n",
    "    data = np.transpose(slice.reshape(slice_shape))\n",
    "    reflectivity = np.apply_along_axis(lambda x: np.convolve(x, [-0.5, 0.5], mode='same'), 0, data)\n",
    "    seismic = np.apply_along_axis(lambda x: np.convolve(x, w, mode='same'), 0, reflectivity)\n",
    "    return seismic\n",
    "\n",
    "for f in xz_files:\n",
    "    seismic = convolve(w, f, xz_size)\n",
    "    np.save(path_to_files+'seismic/'+f+'.npz', seismic)\n",
    "    \n",
    "for f in yz_files:\n",
    "    seismic = convolve(w, f, yz_size)\n",
    "    np.save(path_to_files+'seismic/'+f+'.npz', seismic)\n",
    "    \n",
    "plt.figure(figsize=(16,16))\n",
    "plt.subplot(2,2,1)\n",
    "plt.plot(w)\n",
    "plt.subplot(2,2,2)\n",
    "plt.imshow(data)\n",
    "plt.subplot(2,2,4)\n",
    "plt.imshow(seismic)"
   ]
  },
  {
   "cell_type": "code",
   "execution_count": null,
   "metadata": {
    "collapsed": true
   },
   "outputs": [],
   "source": []
  }
 ],
 "metadata": {
  "anaconda-cloud": {},
  "kernelspec": {
   "display_name": "Python [conda root]",
   "language": "python",
   "name": "conda-root-py"
  },
  "language_info": {
   "codemirror_mode": {
    "name": "ipython",
    "version": 3
   },
   "file_extension": ".py",
   "mimetype": "text/x-python",
   "name": "python",
   "nbconvert_exporter": "python",
   "pygments_lexer": "ipython3",
   "version": "3.5.2"
  }
 },
 "nbformat": 4,
 "nbformat_minor": 1
}
